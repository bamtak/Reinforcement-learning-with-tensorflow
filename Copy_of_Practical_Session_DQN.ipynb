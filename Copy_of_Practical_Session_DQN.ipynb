{
  "nbformat": 4,
  "nbformat_minor": 0,
  "metadata": {
    "kernelspec": {
      "display_name": "Python 3",
      "language": "python",
      "name": "python3"
    },
    "language_info": {
      "codemirror_mode": {
        "name": "ipython",
        "version": 3
      },
      "file_extension": ".py",
      "mimetype": "text/x-python",
      "name": "python",
      "nbconvert_exporter": "python",
      "pygments_lexer": "ipython3",
      "version": "3.7.6"
    },
    "colab": {
      "name": "Copy of Practical Session DQN.ipynb",
      "provenance": [],
      "collapsed_sections": [],
      "include_colab_link": true
    }
  },
  "cells": [
    {
      "cell_type": "markdown",
      "metadata": {
        "id": "view-in-github",
        "colab_type": "text"
      },
      "source": [
        "<a href=\"https://colab.research.google.com/github/bamtak/Reinforcement-learning-with-tensorflow/blob/master/Copy_of_Practical_Session_DQN.ipynb\" target=\"_parent\"><img src=\"https://colab.research.google.com/assets/colab-badge.svg\" alt=\"Open In Colab\"/></a>"
      ]
    },
    {
      "cell_type": "markdown",
      "metadata": {
        "id": "opZzyYN7fwxD",
        "colab_type": "text"
      },
      "source": [
        "## Colab setup"
      ]
    },
    {
      "cell_type": "code",
      "metadata": {
        "id": "rbV50a2jfwxJ",
        "colab_type": "code",
        "colab": {}
      },
      "source": [
        "# !pip install gym > /dev/null 2>&1"
      ],
      "execution_count": null,
      "outputs": []
    },
    {
      "cell_type": "code",
      "metadata": {
        "id": "nA_0eutEfwxS",
        "colab_type": "code",
        "colab": {}
      },
      "source": [
        "!pip install gym pyvirtualdisplay > /dev/null 2>&1\n",
        "!apt-get install -y xvfb python-opengl ffmpeg > /dev/null 2>&1"
      ],
      "execution_count": 2,
      "outputs": []
    },
    {
      "cell_type": "code",
      "metadata": {
        "id": "JqhcwbE3fwxX",
        "colab_type": "code",
        "colab": {
          "base_uri": "https://localhost:8080/",
          "height": 256
        },
        "outputId": "1016f8c6-80c5-4fbb-fa9d-75657b502e33"
      },
      "source": [
        "!apt-get update > /dev/null 2>&1\n",
        "!apt-get install cmake > /dev/null 2>&1\n",
        "!pip install --upgrade setuptools 2>&1\n",
        "!pip install ez_setup > /dev/null 2>&1"
      ],
      "execution_count": 3,
      "outputs": [
        {
          "output_type": "stream",
          "text": [
            "Collecting setuptools\n",
            "\u001b[?25l  Downloading https://files.pythonhosted.org/packages/8e/11/9e10f1cad4518cb307b484c255cae61e97f05b82f6d536932b1714e01b47/setuptools-49.2.0-py3-none-any.whl (789kB)\n",
            "\u001b[K     |████████████████████████████████| 798kB 2.8MB/s \n",
            "\u001b[31mERROR: datascience 0.10.6 has requirement folium==0.2.1, but you'll have folium 0.8.3 which is incompatible.\u001b[0m\n",
            "\u001b[?25hInstalling collected packages: setuptools\n",
            "  Found existing installation: setuptools 49.1.0\n",
            "    Uninstalling setuptools-49.1.0:\n",
            "      Successfully uninstalled setuptools-49.1.0\n",
            "Successfully installed setuptools-49.2.0\n"
          ],
          "name": "stdout"
        },
        {
          "output_type": "display_data",
          "data": {
            "application/vnd.colab-display-data+json": {
              "pip_warning": {
                "packages": [
                  "pkg_resources"
                ]
              }
            }
          },
          "metadata": {
            "tags": []
          }
        }
      ]
    },
    {
      "cell_type": "markdown",
      "metadata": {
        "id": "FFQNOxGsfwxc",
        "colab_type": "text"
      },
      "source": [
        "# Deep Q-Learning (DQN)\n",
        "\n",
        "\n",
        "In DQN, the $Q$-function is parameterized by a neural network of parameters $\\theta$. The network takes as input a state $s$ and outputs $Q(s, a, \\theta)$ for all actions $a$. \n",
        "\n",
        "The network is trained in way that is similar to Fitted Q Iteration. At each time $T$, the agent has observed the transitions $(s_t, a_t, r_t, s_t')_{t=1}^T$, which are stored in a __replay buffer__.\n",
        "\n",
        "In addition to the network with parameters $\\theta$, DQN keeps another network with the same architecture and parameters $\\tilde{\\theta}$, called __target network__. \n",
        "To update the parameters $\\theta$, we sample $N$ transitions from the __replay buffer__, we define the loss \n",
        "\n",
        "$$\n",
        "L(\\theta) = \\sum_{i=1}^N [Q(s_i, a_i, \\theta) - (r_i + \\gamma\\max_{a'}Q(s'_i,a', \\tilde{\\theta}))]^2\n",
        "$$\n",
        "\n",
        "and update \n",
        "\n",
        "$$\n",
        "\\theta \\gets \\theta + \\eta \\nabla L(\\theta).\n",
        "$$\n",
        "\n",
        "\n",
        "Every $C$ iterations, the target network is updated as $\\tilde{\\theta} \\gets \\theta$. \n",
        "\n",
        "At each time $t$, DQN updates the networks as described above, selects an action according to an $\\epsilon$-greedy policy, plays the action and stores the new data in the replay buffer."
      ]
    },
    {
      "cell_type": "code",
      "metadata": {
        "id": "RrBtkvHqfwxe",
        "colab_type": "code",
        "colab": {}
      },
      "source": [
        "# Imports\n",
        "import torch\n",
        "import torch.nn as nn\n",
        "import torch.nn.functional as F\n",
        "import torch.optim as optim\n",
        "import numpy as np\n",
        "import random\n",
        "from copy import deepcopy\n",
        "\n",
        "import gym\n",
        "from gym import logger as gymlogger\n",
        "from gym.wrappers import Monitor\n",
        "gymlogger.set_level(40) #error only\n",
        "\n",
        "from pyvirtualdisplay import Display\n",
        "from IPython import display as ipythondisplay\n",
        "from IPython.display import clear_output\n",
        "from pathlib import Path\n",
        "\n",
        "import random, os.path, math, glob, csv, base64, itertools, sys\n",
        "from pprint import pprint\n",
        "\n",
        "import matplotlib\n",
        "import matplotlib.pyplot as plt\n",
        "%matplotlib inline\n",
        "import io\n",
        "from IPython.display import HTML"
      ],
      "execution_count": 1,
      "outputs": []
    },
    {
      "cell_type": "markdown",
      "metadata": {
        "id": "rz3beIAHfwxi",
        "colab_type": "text"
      },
      "source": [
        "## Step 1: Define the parameters"
      ]
    },
    {
      "cell_type": "code",
      "metadata": {
        "id": "SV7lKaVGfwxj",
        "colab_type": "code",
        "colab": {}
      },
      "source": [
        "# Environment\n",
        "env = gym.make(\"CartPole-v0\")\n",
        "\n",
        "# Discount factor\n",
        "GAMMA = 0.99\n",
        "\n",
        "# Batch size\n",
        "BATCH_SIZE = 256\n",
        "# Capacity of the replay buffer\n",
        "BUFFER_CAPACITY = 10000\n",
        "# Update target net every ... episodes\n",
        "UPDATE_TARGET_EVERY = 20\n",
        "\n",
        "# Initial value of epsilon\n",
        "EPSILON_START = 1.0\n",
        "# Parameter to decrease epsilon\n",
        "DECREASE_EPSILON = 200\n",
        "# Minimum value of epislon\n",
        "EPSILON_MIN = 0.05\n",
        "\n",
        "# Number of training episodes\n",
        "N_EPISODES = 2000\n",
        "\n",
        "# Learning rate\n",
        "LEARNING_RATE = 0.1"
      ],
      "execution_count": 2,
      "outputs": []
    },
    {
      "cell_type": "markdown",
      "metadata": {
        "id": "B4fVXZSafwxo",
        "colab_type": "text"
      },
      "source": [
        "## Step 2: Define the replay buffer"
      ]
    },
    {
      "cell_type": "code",
      "metadata": {
        "id": "aH1tb1wIfwxp",
        "colab_type": "code",
        "colab": {}
      },
      "source": [
        "class ReplayBuffer:\n",
        "    def __init__(self, capacity):\n",
        "        self.capacity = capacity\n",
        "        self.memory = []\n",
        "        self.position = 0\n",
        "\n",
        "    def push(self, state, action, reward, next_state):\n",
        "        \"\"\"Saves a transition.\"\"\"\n",
        "        if len(self.memory) < self.capacity:\n",
        "            self.memory.append(None)\n",
        "        self.memory[self.position] = (state, action, reward, next_state)\n",
        "        self.position = (self.position + 1) % self.capacity\n",
        "\n",
        "    def sample(self, batch_size):\n",
        "        return random.sample(self.memory, batch_size)\n",
        "\n",
        "    def __len__(self):\n",
        "        return len(self.memory)"
      ],
      "execution_count": 3,
      "outputs": []
    },
    {
      "cell_type": "code",
      "metadata": {
        "id": "QFgVBS8Gfwxt",
        "colab_type": "code",
        "colab": {}
      },
      "source": [
        "# create instance of replay buffer\n",
        "replay_buffer = ReplayBuffer(BUFFER_CAPACITY)"
      ],
      "execution_count": 4,
      "outputs": []
    },
    {
      "cell_type": "markdown",
      "metadata": {
        "id": "o6ki1HpXfwxw",
        "colab_type": "text"
      },
      "source": [
        "## Step 3: Define the neural network architecture, objective and optimizer"
      ]
    },
    {
      "cell_type": "code",
      "metadata": {
        "id": "pP2R3fZ8fwxy",
        "colab_type": "code",
        "colab": {}
      },
      "source": [
        "class Net(nn.Module):\n",
        "    \"\"\"\n",
        "    Basic neural net.\n",
        "    \"\"\"\n",
        "    def __init__(self, obs_size, hidden_size, n_actions):\n",
        "        super(Net, self).__init__()\n",
        "        self.net = nn.Sequential(\n",
        "            nn.Linear(obs_size, hidden_size),\n",
        "            nn.ReLU(),\n",
        "            nn.Linear(hidden_size, n_actions)\n",
        "        )\n",
        "\n",
        "    def forward(self, x):\n",
        "        return self.net(x)"
      ],
      "execution_count": 5,
      "outputs": []
    },
    {
      "cell_type": "code",
      "metadata": {
        "id": "c_Oz9uvzfwx2",
        "colab_type": "code",
        "colab": {}
      },
      "source": [
        "# create network and target network\n",
        "hidden_size = 128\n",
        "obs_size = env.observation_space.shape[0]\n",
        "n_actions = env.action_space.n\n",
        "\n",
        "q_net = Net(obs_size, hidden_size, n_actions)\n",
        "target_net = Net(obs_size, hidden_size, n_actions)\n",
        "\n",
        "# objective and optimizer\n",
        "objective = nn.MSELoss()\n",
        "optimizer = optim.Adam(params=q_net.parameters(), lr=LEARNING_RATE)"
      ],
      "execution_count": 6,
      "outputs": []
    },
    {
      "cell_type": "markdown",
      "metadata": {
        "id": "IYeNGkE0fwx5",
        "colab_type": "text"
      },
      "source": [
        "## Step 4: Implement DQN"
      ]
    },
    {
      "cell_type": "code",
      "metadata": {
        "id": "EQqeJNoOfwx7",
        "colab_type": "code",
        "colab": {}
      },
      "source": [
        "#\n",
        "#  Some useful functions\n",
        "#\n",
        "\n",
        "def get_q(states):\n",
        "    \"\"\"\n",
        "    Compute Q function for a list of states\n",
        "    \"\"\"\n",
        "    with torch.no_grad():\n",
        "        states_v = torch.FloatTensor([states])\n",
        "        output = q_net.forward(states_v).data.numpy()  # shape (1, len(states), n_actions)\n",
        "    return output[0, :, :]  # shape (len(states), n_actions)\n",
        "\n",
        "def eval_dqn(n_sim=5):\n",
        "    \"\"\"\n",
        "    Monte Carlo evaluation of DQN agent\n",
        "    \"\"\"\n",
        "    done = False\n",
        "    rewards = np.zeros(n_sim)\n",
        "    copy_env = deepcopy(env)\n",
        "    for i in range(n_sim):\n",
        "      state = copy_env.reset()\n",
        "      while not done:\n",
        "        action = get_q([state])[0].argmax()\n",
        "        state, reward, done, _ = copy_env.step(action)\n",
        "        rewards[i] += reward\n",
        "    return rewards"
      ],
      "execution_count": 7,
      "outputs": []
    },
    {
      "cell_type": "code",
      "metadata": {
        "id": "nvgkbH0Vfwx-",
        "colab_type": "code",
        "colab": {}
      },
      "source": [
        "def choose_action(state, epsilon):\n",
        "    \"\"\"\n",
        "    TO BE IMPLEMENTED\n",
        "    Return action according to an epsilon-greedy exploration policy\n",
        "    \"\"\"\n",
        "    not_greedy = np.random.uniform(0, 1) < epsilon\n",
        "    return env.action_space.sample() if not_greedy else get_q([state])[0].argmax()\n",
        "    \n",
        "\n",
        "def update(state, action, reward, next_state, done):\n",
        "    \"\"\"\n",
        "    TO BE COMPLETED\n",
        "    \"\"\"\n",
        "    \n",
        "    # add data to replay buffer\n",
        "    if done:\n",
        "        next_state = None\n",
        "    replay_buffer.push(state, action, reward, next_state)\n",
        "    \n",
        "    if len(replay_buffer) < BATCH_SIZE:\n",
        "        return np.inf\n",
        "    \n",
        "    # get batch\n",
        "    transitions = replay_buffer.sample(BATCH_SIZE)\n",
        "    def map_tensor(idx): \n",
        "      return [transitions[i][idx] for i in range(BATCH_SIZE)]\n",
        "    # Compute loss - TO BE IMPLEMENTED!\n",
        "\n",
        "    batch_states = torch.FloatTensor(map_tensor(0))\n",
        "    batch_rewards = torch.FloatTensor(map_tensor(2))\n",
        "    batch_actions = torch.LongTensor(map_tensor(1))\n",
        "    non_final_next_states = torch.FloatTensor([transitions[i][3] for i in range(BATCH_SIZE) if transitions[i][3] is not None])\n",
        "\n",
        "    non_final_mask = torch.tensor([(transitions[i][3] is not None) for i in range(BATCH_SIZE)], dtype=bool)\n",
        "    next_state_values = torch.zeros(BATCH_SIZE)\n",
        "    next_state_values[non_final_mask] = target_net(non_final_next_states).max(1)[0].detach()\n",
        "    targets = torch.zeros(BATCH_SIZE)   # to be computed using batch\n",
        "    \n",
        "    values = state_action_values = q_net(batch_states).gather(1, batch_actions.view(-1, 1))\n",
        "    targets = batch_rewards + (GAMMA * next_state_values)\n",
        "    loss = objective(values, targets.unsqueeze(1))\n",
        "    \n",
        "    # Optimize the model - UNCOMMENT!\n",
        "    optimizer.zero_grad()\n",
        "    loss.backward()\n",
        "    optimizer.step()\n",
        "    \n",
        "    return loss.data.numpy()"
      ],
      "execution_count": 8,
      "outputs": []
    },
    {
      "cell_type": "code",
      "metadata": {
        "id": "qUzuCwdcfwyC",
        "colab_type": "code",
        "colab": {
          "base_uri": "https://localhost:8080/",
          "height": 731
        },
        "outputId": "dd447124-0300-456d-b095-f5e98ee8936f"
      },
      "source": [
        "#\n",
        "# Train\n",
        "# \n",
        "\n",
        "EVAL_EVERY = 50\n",
        "REWARD_THRESHOLD = 199\n",
        "\n",
        "def train():\n",
        "    state = env.reset()\n",
        "    epsilon = EPSILON_START\n",
        "    ep = 0\n",
        "    total_time = 0\n",
        "    while ep < N_EPISODES:\n",
        "        action = choose_action(state, epsilon)\n",
        "\n",
        "        # take action and update replay buffer and networks\n",
        "        next_state, reward, done, _ = env.step(action)\n",
        "        loss = update(state, action, reward, next_state, done)\n",
        "\n",
        "        # update state\n",
        "        state = next_state\n",
        "\n",
        "        # end episode if done\n",
        "        if done:\n",
        "            state = env.reset()\n",
        "            ep   += 1\n",
        "            if ( (ep+1)% EVAL_EVERY == 0):\n",
        "                rewards = eval_dqn()\n",
        "                print(\"episode =\", ep+1, \", reward = \", np.mean(rewards), 'Loss = ', loss)\n",
        "                if np.mean(rewards) >= REWARD_THRESHOLD:\n",
        "                    break\n",
        "\n",
        "            # update target network\n",
        "            if ep % UPDATE_TARGET_EVERY == 0:\n",
        "                target_net.load_state_dict(q_net.state_dict())\n",
        "            # decrease epsilon\n",
        "            epsilon = EPSILON_MIN + (EPSILON_START - EPSILON_MIN) * \\\n",
        "                            np.exp(-1. * ep / DECREASE_EPSILON )    \n",
        "\n",
        "        total_time += 1\n",
        "\n",
        "train()\n",
        "rewards = eval_dqn(20)\n",
        "print(\"\")\n",
        "print(\"mean reward after training = \", np.mean(rewards))"
      ],
      "execution_count": 9,
      "outputs": [
        {
          "output_type": "stream",
          "text": [
            "episode = 50 , reward =  2.0 Loss =  0.026085978\n",
            "episode = 100 , reward =  5.4 Loss =  0.04613961\n",
            "episode = 150 , reward =  5.2 Loss =  0.07348943\n",
            "episode = 200 , reward =  15.2 Loss =  0.2793681\n",
            "episode = 250 , reward =  20.6 Loss =  0.1878831\n",
            "episode = 300 , reward =  29.6 Loss =  0.48468223\n",
            "episode = 350 , reward =  13.4 Loss =  0.3715018\n",
            "episode = 400 , reward =  8.6 Loss =  4.9523187\n",
            "episode = 450 , reward =  18.4 Loss =  0.3970398\n",
            "episode = 500 , reward =  5.4 Loss =  3.5037093\n",
            "episode = 550 , reward =  19.2 Loss =  1.5867462\n",
            "episode = 600 , reward =  18.6 Loss =  2.7709312\n",
            "episode = 650 , reward =  18.0 Loss =  13.584453\n",
            "episode = 700 , reward =  2.2 Loss =  8.054456\n",
            "episode = 750 , reward =  18.6 Loss =  6.5318966\n",
            "episode = 800 , reward =  17.2 Loss =  1.5152545\n",
            "episode = 850 , reward =  3.6 Loss =  5.916047\n",
            "episode = 900 , reward =  1.8 Loss =  7.8619833\n",
            "episode = 950 , reward =  14.8 Loss =  7.6232195\n",
            "episode = 1000 , reward =  17.6 Loss =  4.2334223\n",
            "episode = 1050 , reward =  23.0 Loss =  7.254832\n",
            "episode = 1100 , reward =  17.2 Loss =  4.5366488\n",
            "episode = 1150 , reward =  16.4 Loss =  12.327011\n",
            "episode = 1200 , reward =  17.6 Loss =  8.68633\n",
            "episode = 1250 , reward =  11.8 Loss =  16.80422\n",
            "episode = 1300 , reward =  17.6 Loss =  1.7408766\n",
            "episode = 1350 , reward =  16.2 Loss =  4.846607\n",
            "episode = 1400 , reward =  20.6 Loss =  9.834985\n",
            "episode = 1450 , reward =  2.2 Loss =  1.5391912\n",
            "episode = 1500 , reward =  4.2 Loss =  18.951616\n",
            "episode = 1550 , reward =  13.4 Loss =  15.377995\n",
            "episode = 1600 , reward =  18.2 Loss =  8.299146\n",
            "episode = 1650 , reward =  27.0 Loss =  15.413538\n",
            "episode = 1700 , reward =  24.0 Loss =  6.218329\n",
            "episode = 1750 , reward =  18.2 Loss =  3.9023204\n",
            "episode = 1800 , reward =  10.4 Loss =  6.9397883\n",
            "episode = 1850 , reward =  18.4 Loss =  6.075958\n",
            "episode = 1900 , reward =  16.4 Loss =  9.256096\n",
            "episode = 1950 , reward =  21.8 Loss =  21.16518\n",
            "episode = 2000 , reward =  40.0 Loss =  5.716703\n",
            "\n",
            "mean reward after training =  5.85\n"
          ],
          "name": "stdout"
        }
      ]
    },
    {
      "cell_type": "markdown",
      "metadata": {
        "id": "nhWv6ThkfwyG",
        "colab_type": "text"
      },
      "source": [
        "## Visualizing the agent"
      ]
    },
    {
      "cell_type": "code",
      "metadata": {
        "id": "n0sGUpzJfwyH",
        "colab_type": "code",
        "colab": {
          "base_uri": "https://localhost:8080/",
          "height": 34
        },
        "outputId": "118e5a72-4235-4d4e-8aba-6746e86bfa4a"
      },
      "source": [
        "def show_video(directory):\n",
        "    html = []\n",
        "    for mp4 in Path(directory).glob(\"*.mp4\"):\n",
        "        video_b64 = base64.b64encode(mp4.read_bytes())\n",
        "        html.append('''<video alt=\"{}\" autoplay \n",
        "                      loop controls style=\"height: 400px;\">\n",
        "                      <source src=\"data:video/mp4;base64,{}\" type=\"video/mp4\" />\n",
        "                 </video>'''.format(mp4, video_b64.decode('ascii')))\n",
        "    ipythondisplay.display(ipythondisplay.HTML(data=\"<br>\".join(html)))\n",
        "    \n",
        "def make_seed(seed):\n",
        "    np.random.seed(seed=seed)\n",
        "    torch.manual_seed(seed=seed)\n",
        "  \n",
        "from pyvirtualdisplay import Display\n",
        "display = Display(visible=0, size=(1400, 900))\n",
        "display.start()"
      ],
      "execution_count": 10,
      "outputs": [
        {
          "output_type": "execute_result",
          "data": {
            "text/plain": [
              "<pyvirtualdisplay.display.Display at 0x7fe39c1b66a0>"
            ]
          },
          "metadata": {
            "tags": []
          },
          "execution_count": 10
        }
      ]
    },
    {
      "cell_type": "code",
      "metadata": {
        "id": "b2Fhe2iefwyM",
        "colab_type": "code",
        "colab": {
          "base_uri": "https://localhost:8080/",
          "height": 421
        },
        "outputId": "f05ca55b-cfe4-4cd0-a7bc-ac40e2b4bc55"
      },
      "source": [
        "env = Monitor(env, \"./gym-results\", force=True, video_callable=lambda episode: True)\n",
        "for episode in range(1):\n",
        "    done = False\n",
        "    state = env.reset()\n",
        "    while not done:\n",
        "        action = env.action_space.sample() # MODIFY THIS PART TO COMPUTE THE ACTION WITH DQN\n",
        "        state, reward, done, info = env.step(action)\n",
        "env.close()\n",
        "show_video(\"./gym-results\")"
      ],
      "execution_count": 11,
      "outputs": [
        {
          "output_type": "display_data",
          "data": {
            "text/html": [
              "<video alt=\"gym-results/openaigym.video.0.1089.video000000.mp4\" autoplay \n",
              "                      loop controls style=\"height: 400px;\">\n",
              "                      <source src=\"data:video/mp4;base64,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\" type=\"video/mp4\" />\n",
              "                 </video>"
            ],
            "text/plain": [
              "<IPython.core.display.HTML object>"
            ]
          },
          "metadata": {
            "tags": []
          }
        }
      ]
    },
    {
      "cell_type": "code",
      "metadata": {
        "id": "Fi-p1If6CcQA",
        "colab_type": "code",
        "colab": {}
      },
      "source": [
        ""
      ],
      "execution_count": null,
      "outputs": []
    }
  ]
}